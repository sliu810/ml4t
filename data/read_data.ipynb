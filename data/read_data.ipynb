{
 "cells": [
  {
   "cell_type": "code",
   "execution_count": 8,
   "metadata": {},
   "outputs": [],
   "source": [
    "from pathlib import Path\n",
    "import h5py\n",
    "\n",
    "%matplotlib inline\n",
    "\n",
    "from datetime import datetime\n",
    "import pandas as pd\n",
    "import pandas_datareader.data as web\n",
    "\n",
    "from statsmodels.regression.rolling import RollingOLS\n",
    "import statsmodels.api as sm\n",
    "\n",
    "import matplotlib.pyplot as plt\n",
    "import seaborn as sns"
   ]
  },
  {
   "cell_type": "code",
   "execution_count": 9,
   "metadata": {},
   "outputs": [],
   "source": [
    "DATA_STORE = Path('assets.h5')\n",
    "START = 2000\n",
    "END = 2018"
   ]
  },
  {
   "cell_type": "code",
   "execution_count": 10,
   "metadata": {},
   "outputs": [
    {
     "name": "stdout",
     "output_type": "stream",
     "text": [
      "<KeysViewHDF5 ['quandl', 'sp500', 'us_equities']>\n"
     ]
    }
   ],
   "source": [
    "# Open the HDF5 file.\n",
    "with h5py.File(DATA_STORE, 'r') as f:\n",
    "\n",
    "    # Explore the file structure.\n",
    "    print(f.keys())\n",
    "\n",
    "    # Read the data from the file.\n",
    "    #data = f['data']\n",
    "\n",
    "    #print(data)"
   ]
  },
  {
   "cell_type": "code",
   "execution_count": 11,
   "metadata": {},
   "outputs": [
    {
     "ename": "NameError",
     "evalue": "name 'idx' is not defined",
     "output_type": "error",
     "traceback": [
      "\u001b[0;31m---------------------------------------------------------------------------\u001b[0m",
      "\u001b[0;31mNameError\u001b[0m                                 Traceback (most recent call last)",
      "Cell \u001b[0;32mIn[11], line 3\u001b[0m\n\u001b[1;32m      1\u001b[0m \u001b[39mwith\u001b[39;00m pd\u001b[39m.\u001b[39mHDFStore(DATA_STORE) \u001b[39mas\u001b[39;00m store:\n\u001b[1;32m      2\u001b[0m     prices \u001b[39m=\u001b[39m (store[\u001b[39m'\u001b[39m\u001b[39mquandl/wiki/prices\u001b[39m\u001b[39m'\u001b[39m]\n\u001b[0;32m----> 3\u001b[0m               \u001b[39m.\u001b[39mloc[idx[\u001b[39mstr\u001b[39m(START):\u001b[39mstr\u001b[39m(END), :], \u001b[39m'\u001b[39m\u001b[39madj_close\u001b[39m\u001b[39m'\u001b[39m]\n\u001b[1;32m      4\u001b[0m               \u001b[39m.\u001b[39munstack(\u001b[39m'\u001b[39m\u001b[39mticker\u001b[39m\u001b[39m'\u001b[39m))\n\u001b[1;32m      5\u001b[0m     stocks \u001b[39m=\u001b[39m store[\u001b[39m'\u001b[39m\u001b[39mus_equities/stocks\u001b[39m\u001b[39m'\u001b[39m]\u001b[39m.\u001b[39mloc[:, [\u001b[39m'\u001b[39m\u001b[39mmarketcap\u001b[39m\u001b[39m'\u001b[39m, \u001b[39m'\u001b[39m\u001b[39mipoyear\u001b[39m\u001b[39m'\u001b[39m, \u001b[39m'\u001b[39m\u001b[39msector\u001b[39m\u001b[39m'\u001b[39m]]\n",
      "\u001b[0;31mNameError\u001b[0m: name 'idx' is not defined"
     ]
    }
   ],
   "source": [
    "with pd.HDFStore(DATA_STORE) as store:\n",
    "    prices = (store['quandl/wiki/prices']\n",
    "              .loc[idx[str(START):str(END), :], 'adj_close']\n",
    "              .unstack('ticker'))\n",
    "    stocks = store['us_equities/stocks'].loc[:, ['marketcap', 'ipoyear', 'sector']]"
   ]
  }
 ],
 "metadata": {
  "kernelspec": {
   "display_name": "ml4t",
   "language": "python",
   "name": "python3"
  },
  "language_info": {
   "codemirror_mode": {
    "name": "ipython",
    "version": 3
   },
   "file_extension": ".py",
   "mimetype": "text/x-python",
   "name": "python",
   "nbconvert_exporter": "python",
   "pygments_lexer": "ipython3",
   "version": "3.11.4"
  },
  "orig_nbformat": 4
 },
 "nbformat": 4,
 "nbformat_minor": 2
}
